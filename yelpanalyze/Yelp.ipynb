{
 "cells": [
  {
   "cell_type": "markdown",
   "metadata": {},
   "source": [
    "***Yelp Recommendation to setup a New Restaurant***"
   ]
  },
  {
   "cell_type": "markdown",
   "metadata": {},
   "source": [
    "**Motivation** - To analyze various factors to be considered for establishing a new restaurant\n",
    "business in San Francisco area.\n"
   ]
  },
  {
   "cell_type": "code",
   "execution_count": 1,
   "metadata": {},
   "outputs": [],
   "source": [
    "#Importing reqired Libraries\n",
    "\n",
    "import pandas as pd # data processing, CSV file I/O \n",
    "import numpy as np # linear algebra\n",
    "from matplotlib import pyplot as plt\n",
    "import seaborn as sns\n",
    "%matplotlib inline"
   ]
  },
  {
   "cell_type": "code",
   "execution_count": 2,
   "metadata": {},
   "outputs": [
    {
     "data": {
      "text/html": [
       "<div>\n",
       "<style scoped>\n",
       "    .dataframe tbody tr th:only-of-type {\n",
       "        vertical-align: middle;\n",
       "    }\n",
       "\n",
       "    .dataframe tbody tr th {\n",
       "        vertical-align: top;\n",
       "    }\n",
       "\n",
       "    .dataframe thead th {\n",
       "        text-align: right;\n",
       "    }\n",
       "</style>\n",
       "<table border=\"1\" class=\"dataframe\">\n",
       "  <thead>\n",
       "    <tr style=\"text-align: right;\">\n",
       "      <th></th>\n",
       "      <th>Category</th>\n",
       "      <th>Overallrating</th>\n",
       "      <th>Name</th>\n",
       "      <th>Delivery</th>\n",
       "      <th>NumberReviews</th>\n",
       "      <th>PriceRange</th>\n",
       "    </tr>\n",
       "  </thead>\n",
       "  <tbody>\n",
       "    <tr>\n",
       "      <th>0</th>\n",
       "      <td>Sushi Bars</td>\n",
       "      <td>4.0</td>\n",
       "      <td>Tataki</td>\n",
       "      <td>No</td>\n",
       "      <td>1199</td>\n",
       "      <td>$$</td>\n",
       "    </tr>\n",
       "    <tr>\n",
       "      <th>1</th>\n",
       "      <td>Mediterranean</td>\n",
       "      <td>4.5</td>\n",
       "      <td>Lokma</td>\n",
       "      <td>Yes</td>\n",
       "      <td>159</td>\n",
       "      <td>$$</td>\n",
       "    </tr>\n",
       "    <tr>\n",
       "      <th>2</th>\n",
       "      <td>Mexican</td>\n",
       "      <td>4.0</td>\n",
       "      <td>Tropisueño</td>\n",
       "      <td>No</td>\n",
       "      <td>4029</td>\n",
       "      <td>$$</td>\n",
       "    </tr>\n",
       "    <tr>\n",
       "      <th>3</th>\n",
       "      <td>Chicken Wings</td>\n",
       "      <td>4.5</td>\n",
       "      <td>Hot Sauce and Panko</td>\n",
       "      <td>Yes</td>\n",
       "      <td>1014</td>\n",
       "      <td>$</td>\n",
       "    </tr>\n",
       "    <tr>\n",
       "      <th>4</th>\n",
       "      <td>American (Traditional)</td>\n",
       "      <td>4.0</td>\n",
       "      <td>Eats</td>\n",
       "      <td>No</td>\n",
       "      <td>1030</td>\n",
       "      <td>$$</td>\n",
       "    </tr>\n",
       "  </tbody>\n",
       "</table>\n",
       "</div>"
      ],
      "text/plain": [
       "                 Category  Overallrating                 Name Delivery  \\\n",
       "0              Sushi Bars            4.0               Tataki       No   \n",
       "1           Mediterranean            4.5                Lokma      Yes   \n",
       "2                 Mexican            4.0           Tropisueño       No   \n",
       "3           Chicken Wings            4.5  Hot Sauce and Panko      Yes   \n",
       "4  American (Traditional)            4.0                 Eats       No   \n",
       "\n",
       "   NumberReviews PriceRange  \n",
       "0           1199         $$  \n",
       "1            159         $$  \n",
       "2           4029         $$  \n",
       "3           1014          $  \n",
       "4           1030         $$  "
      ]
     },
     "execution_count": 2,
     "metadata": {},
     "output_type": "execute_result"
    }
   ],
   "source": [
    "# Import the dataset\n",
    "yelp = pd.read_csv('C:/Users/rajes/Desktop/NYDS/Web Scraping in Python/yelpanalyze/restaurants3.csv')\n",
    "yelp.head()"
   ]
  },
  {
   "cell_type": "markdown",
   "metadata": {},
   "source": [
    "**Cleaning Data** - To cleanup the data, I'm considering to review the following:\n",
    "1. Missing Data\n",
    "2. Invalid Data"
   ]
  },
  {
   "cell_type": "code",
   "execution_count": 3,
   "metadata": {},
   "outputs": [
    {
     "name": "stdout",
     "output_type": "stream",
     "text": [
      "<class 'pandas.core.frame.DataFrame'>\n",
      "RangeIndex: 990 entries, 0 to 989\n",
      "Data columns (total 6 columns):\n",
      "Category         990 non-null object\n",
      "Overallrating    990 non-null float64\n",
      "Name             990 non-null object\n",
      "Delivery         966 non-null object\n",
      "NumberReviews    990 non-null int64\n",
      "PriceRange       990 non-null object\n",
      "dtypes: float64(1), int64(1), object(4)\n",
      "memory usage: 46.5+ KB\n"
     ]
    }
   ],
   "source": [
    "#Info\n",
    "\n",
    "yelp.info()"
   ]
  },
  {
   "cell_type": "code",
   "execution_count": 4,
   "metadata": {},
   "outputs": [
    {
     "data": {
      "text/plain": [
       "Category         False\n",
       "Overallrating    False\n",
       "Name             False\n",
       "Delivery          True\n",
       "NumberReviews    False\n",
       "PriceRange       False\n",
       "dtype: bool"
      ]
     },
     "execution_count": 4,
     "metadata": {},
     "output_type": "execute_result"
    }
   ],
   "source": [
    "#To check is we have any null value - Missing Data\n",
    "yelp.isna().any()"
   ]
  },
  {
   "cell_type": "code",
   "execution_count": 5,
   "metadata": {},
   "outputs": [
    {
     "data": {
      "text/plain": [
       "Category         0.00\n",
       "Overallrating    0.00\n",
       "Name             0.00\n",
       "Delivery         2.42\n",
       "NumberReviews    0.00\n",
       "PriceRange       0.00\n",
       "dtype: float64"
      ]
     },
     "execution_count": 5,
     "metadata": {},
     "output_type": "execute_result"
    }
   ],
   "source": [
    "#Finding out the percentage of missing data\n",
    "yelp.isna().mean().round(4) * 100"
   ]
  },
  {
   "cell_type": "code",
   "execution_count": 6,
   "metadata": {},
   "outputs": [
    {
     "data": {
      "text/plain": [
       "Category         False\n",
       "Overallrating    False\n",
       "Name             False\n",
       "Delivery         False\n",
       "NumberReviews    False\n",
       "PriceRange       False\n",
       "dtype: bool"
      ]
     },
     "execution_count": 6,
     "metadata": {},
     "output_type": "execute_result"
    }
   ],
   "source": [
    "# Replacing N/a with NaN rather than deleting the records as the missing data is only 2.4%\n",
    "yelp['Delivery'] = yelp['Delivery'].fillna('na')\n",
    "yelp.isna().any()"
   ]
  },
  {
   "cell_type": "code",
   "execution_count": 7,
   "metadata": {},
   "outputs": [
    {
     "data": {
      "text/plain": [
       "Text(0,0.5,'No.Of Restaurants')"
      ]
     },
     "execution_count": 7,
     "metadata": {},
     "output_type": "execute_result"
    },
    {
     "data": {
      "image/png": "[encoded data removed]",
      "text/plain": [
       "<Figure size 432x288 with 1 Axes>"
      ]
     },
     "metadata": {
      "needs_background": "light"
     },
     "output_type": "display_data"
    }
   ],
   "source": [
    "#Using a histogram to find the distribution of Number of reviews\n",
    "#sns.set()\n",
    "plt.hist(yelp['NumberReviews'], bins=30, alpha=0.5,\n",
    "         histtype='stepfilled', color='red',\n",
    "         edgecolor='none');\n",
    "plt.xlabel('No. Of Reviews')\n",
    "plt.ylabel('No.Of Restaurants')"
   ]
  },
  {
   "cell_type": "markdown",
   "metadata": {},
   "source": [
    "From the above observations: \n",
    "1. we have only 2.4% of missing data for Delivery column which is replaced by NA and can be ignored for further analysis.\n",
    "2. Considering restaurants having more number of Reviews[1000] - Based on the above distribution we can't ignore any rows for column \"Number of Reviews\" as major percentage of restaurants are having less than 100 reviews.\n"
   ]
  },
  {
   "cell_type": "markdown",
   "metadata": {},
   "source": [
    "***Factors Influencing for a steup of New Restaurants***"
   ]
  },
  {
   "cell_type": "markdown",
   "metadata": {},
   "source": [
    "**1. Delivery - Analyzing if delivery have an impact on restaurant business**"
   ]
  },
  {
   "cell_type": "code",
   "execution_count": 8,
   "metadata": {},
   "outputs": [
    {
     "data": {
      "image/png": "[encoded data removed]",
      "text/plain": [
       "<Figure size 360x360 with 1 Axes>"
      ]
     },
     "metadata": {
      "needs_background": "light"
     },
     "output_type": "display_data"
    }
   ],
   "source": [
    "# Box plot between Delivery and OverallRating\n",
    "sns.catplot(x=\"Delivery\", y=\"Overallrating\", kind ='box' ,data=yelp);"
   ]
  },
  {
   "cell_type": "markdown",
   "metadata": {},
   "source": [
    "From above analysis - Restaurants with Delivery have average of more ratings compared to restaurants without delivery."
   ]
  },
  {
   "cell_type": "markdown",
   "metadata": {},
   "source": [
    "**2. Price Range - Analyzing if Price Range have an impact on restaurant business**"
   ]
  },
  {
   "cell_type": "code",
   "execution_count": 9,
   "metadata": {},
   "outputs": [
    {
     "data": {
      "text/plain": [
       "$11-30       667\n",
       "Under $10    144\n",
       "$31-60       138\n",
       "Above $61     41\n",
       "Name: PriceRange, dtype: int64"
      ]
     },
     "execution_count": 9,
     "metadata": {},
     "output_type": "execute_result"
    }
   ],
   "source": [
    "# Replace the dollar value  with price range\n",
    "yelp.PriceRange = yelp.PriceRange.replace({\"$\": \"Under $10\",\"$$\": \"$11-30\",\"$$$\":\"$31-60\",\"$$$$\":\"Above $61\"})\n",
    "yelp.PriceRange.value_counts()"
   ]
  },
  {
   "cell_type": "code",
   "execution_count": 10,
   "metadata": {},
   "outputs": [
    {
     "data": {
      "text/html": [
       "<div>\n",
       "<style scoped>\n",
       "    .dataframe tbody tr th:only-of-type {\n",
       "        vertical-align: middle;\n",
       "    }\n",
       "\n",
       "    .dataframe tbody tr th {\n",
       "        vertical-align: top;\n",
       "    }\n",
       "\n",
       "    .dataframe thead th {\n",
       "        text-align: right;\n",
       "    }\n",
       "</style>\n",
       "<table border=\"1\" class=\"dataframe\">\n",
       "  <thead>\n",
       "    <tr style=\"text-align: right;\">\n",
       "      <th></th>\n",
       "      <th>Category</th>\n",
       "      <th>Overallrating</th>\n",
       "      <th>Name</th>\n",
       "      <th>Delivery</th>\n",
       "      <th>NumberReviews</th>\n",
       "      <th>PriceRange</th>\n",
       "    </tr>\n",
       "  </thead>\n",
       "  <tbody>\n",
       "    <tr>\n",
       "      <th>0</th>\n",
       "      <td>Sushi Bars</td>\n",
       "      <td>4.0</td>\n",
       "      <td>Tataki</td>\n",
       "      <td>No</td>\n",
       "      <td>1199</td>\n",
       "      <td>$11-30</td>\n",
       "    </tr>\n",
       "    <tr>\n",
       "      <th>1</th>\n",
       "      <td>Mediterranean</td>\n",
       "      <td>4.5</td>\n",
       "      <td>Lokma</td>\n",
       "      <td>Yes</td>\n",
       "      <td>159</td>\n",
       "      <td>$11-30</td>\n",
       "    </tr>\n",
       "    <tr>\n",
       "      <th>2</th>\n",
       "      <td>Mexican</td>\n",
       "      <td>4.0</td>\n",
       "      <td>Tropisueño</td>\n",
       "      <td>No</td>\n",
       "      <td>4029</td>\n",
       "      <td>$11-30</td>\n",
       "    </tr>\n",
       "    <tr>\n",
       "      <th>3</th>\n",
       "      <td>Chicken Wings</td>\n",
       "      <td>4.5</td>\n",
       "      <td>Hot Sauce and Panko</td>\n",
       "      <td>Yes</td>\n",
       "      <td>1014</td>\n",
       "      <td>Under $10</td>\n",
       "    </tr>\n",
       "    <tr>\n",
       "      <th>4</th>\n",
       "      <td>American (Traditional)</td>\n",
       "      <td>4.0</td>\n",
       "      <td>Eats</td>\n",
       "      <td>No</td>\n",
       "      <td>1030</td>\n",
       "      <td>$11-30</td>\n",
       "    </tr>\n",
       "  </tbody>\n",
       "</table>\n",
       "</div>"
      ],
      "text/plain": [
       "                 Category  Overallrating                 Name Delivery  \\\n",
       "0              Sushi Bars            4.0               Tataki       No   \n",
       "1           Mediterranean            4.5                Lokma      Yes   \n",
       "2                 Mexican            4.0           Tropisueño       No   \n",
       "3           Chicken Wings            4.5  Hot Sauce and Panko      Yes   \n",
       "4  American (Traditional)            4.0                 Eats       No   \n",
       "\n",
       "   NumberReviews PriceRange  \n",
       "0           1199     $11-30  \n",
       "1            159     $11-30  \n",
       "2           4029     $11-30  \n",
       "3           1014  Under $10  \n",
       "4           1030     $11-30  "
      ]
     },
     "execution_count": 10,
     "metadata": {},
     "output_type": "execute_result"
    }
   ],
   "source": [
    "#Preview of dataset with Price Range\n",
    "yelp.head()"
   ]
  },
  {
   "cell_type": "code",
   "execution_count": 11,
   "metadata": {},
   "outputs": [
    {
     "data": {
      "image/png": "[encoded data removed]",
      "text/plain": [
       "<Figure size 360x360 with 1 Axes>"
      ]
     },
     "metadata": {
      "needs_background": "light"
     },
     "output_type": "display_data"
    }
   ],
   "source": [
    "# Box plot between PriceRange and OverallRating \n",
    "sns.catplot(x=\"PriceRange\", y=\"Overallrating\", kind ='box' ,data=yelp);"
   ]
  },
  {
   "cell_type": "code",
   "execution_count": 12,
   "metadata": {},
   "outputs": [],
   "source": [
    "#Creating a bar plot for more insight of PriceRange\n",
    "#f, ax = plt.subplots(figsize=(18, 6))\n",
    "#sns.barplot(x=\"PriceRange\", y=\"Overallrating\", data=yelp)\n",
    "#plt.legend(loc='upper right',title='Price')"
   ]
  },
  {
   "cell_type": "code",
   "execution_count": 13,
   "metadata": {},
   "outputs": [
    {
     "data": {
      "text/plain": [
       "<matplotlib.legend.Legend at 0xc1adf98>"
      ]
     },
     "execution_count": 13,
     "metadata": {},
     "output_type": "execute_result"
    },
    {
     "data": {
      "image/png": "[encoded data removed]",
      "text/plain": [
       "<Figure size 864x432 with 1 Axes>"
      ]
     },
     "metadata": {
      "needs_background": "light"
     },
     "output_type": "display_data"
    }
   ],
   "source": [
    "#Finding out the popular Price Range\n",
    "f, ax = plt.subplots(figsize=(12, 6))\n",
    "Y2 = pd.DataFrame(yelp.groupby(['PriceRange']).Overallrating.count()).reset_index()\n",
    "Y2['PriceRange'] = pd.Categorical(Y2['PriceRange'], ['Under $10', '$11-30', '$31-60', 'Above $61'])\n",
    "Y2 = Y2.sort_values('PriceRange')\n",
    "sns.barplot(x=\"PriceRange\", y=\"Overallrating\", hue = 'PriceRange', data=Y2)\n",
    "ax.set(ylabel='No.Of Restaurants')\n",
    "plt.legend(loc='upper right',title='Price')"
   ]
  },
  {
   "cell_type": "markdown",
   "metadata": {},
   "source": [
    "This identifies that restaurants in price range of Under 10 and Above 61 have higher ratings but the count of restaurants with price range $ \"11-30\" are way higher than any other."
   ]
  },
  {
   "cell_type": "markdown",
   "metadata": {},
   "source": [
    "**Cuisine - Identifying the best Cuisines**"
   ]
  },
  {
   "cell_type": "code",
   "execution_count": 14,
   "metadata": {},
   "outputs": [
    {
     "data": {
      "text/html": [
       "<div>\n",
       "<style scoped>\n",
       "    .dataframe tbody tr th:only-of-type {\n",
       "        vertical-align: middle;\n",
       "    }\n",
       "\n",
       "    .dataframe tbody tr th {\n",
       "        vertical-align: top;\n",
       "    }\n",
       "\n",
       "    .dataframe thead th {\n",
       "        text-align: right;\n",
       "    }\n",
       "</style>\n",
       "<table border=\"1\" class=\"dataframe\">\n",
       "  <thead>\n",
       "    <tr style=\"text-align: right;\">\n",
       "      <th></th>\n",
       "      <th>Category</th>\n",
       "      <th>Overallrating</th>\n",
       "      <th>NumberReviews</th>\n",
       "    </tr>\n",
       "  </thead>\n",
       "  <tbody>\n",
       "    <tr>\n",
       "      <th>1</th>\n",
       "      <td>American (New)</td>\n",
       "      <td>4.006410</td>\n",
       "      <td>67791</td>\n",
       "    </tr>\n",
       "    <tr>\n",
       "      <th>67</th>\n",
       "      <td>Italian</td>\n",
       "      <td>4.026667</td>\n",
       "      <td>63484</td>\n",
       "    </tr>\n",
       "    <tr>\n",
       "      <th>99</th>\n",
       "      <td>Seafood</td>\n",
       "      <td>3.987500</td>\n",
       "      <td>63339</td>\n",
       "    </tr>\n",
       "    <tr>\n",
       "      <th>15</th>\n",
       "      <td>Breakfast &amp; Brunch</td>\n",
       "      <td>4.142857</td>\n",
       "      <td>46829</td>\n",
       "    </tr>\n",
       "    <tr>\n",
       "      <th>2</th>\n",
       "      <td>American (Traditional)</td>\n",
       "      <td>3.967742</td>\n",
       "      <td>41864</td>\n",
       "    </tr>\n",
       "    <tr>\n",
       "      <th>77</th>\n",
       "      <td>Mexican</td>\n",
       "      <td>4.000000</td>\n",
       "      <td>41853</td>\n",
       "    </tr>\n",
       "    <tr>\n",
       "      <th>51</th>\n",
       "      <td>French</td>\n",
       "      <td>4.107143</td>\n",
       "      <td>29968</td>\n",
       "    </tr>\n",
       "    <tr>\n",
       "      <th>122</th>\n",
       "      <td>Vietnamese</td>\n",
       "      <td>4.000000</td>\n",
       "      <td>27857</td>\n",
       "    </tr>\n",
       "    <tr>\n",
       "      <th>88</th>\n",
       "      <td>Pizza</td>\n",
       "      <td>4.325000</td>\n",
       "      <td>26604</td>\n",
       "    </tr>\n",
       "    <tr>\n",
       "      <th>30</th>\n",
       "      <td>Chinese</td>\n",
       "      <td>3.931818</td>\n",
       "      <td>23669</td>\n",
       "    </tr>\n",
       "    <tr>\n",
       "      <th>5</th>\n",
       "      <td>Bakeries</td>\n",
       "      <td>4.107143</td>\n",
       "      <td>21978</td>\n",
       "    </tr>\n",
       "    <tr>\n",
       "      <th>117</th>\n",
       "      <td>Thai</td>\n",
       "      <td>4.020833</td>\n",
       "      <td>19960</td>\n",
       "    </tr>\n",
       "    <tr>\n",
       "      <th>110</th>\n",
       "      <td>Sushi Bars</td>\n",
       "      <td>4.200000</td>\n",
       "      <td>19286</td>\n",
       "    </tr>\n",
       "    <tr>\n",
       "      <th>7</th>\n",
       "      <td>Bars</td>\n",
       "      <td>4.022727</td>\n",
       "      <td>16835</td>\n",
       "    </tr>\n",
       "    <tr>\n",
       "      <th>109</th>\n",
       "      <td>Steakhouses</td>\n",
       "      <td>3.950000</td>\n",
       "      <td>16771</td>\n",
       "    </tr>\n",
       "    <tr>\n",
       "      <th>69</th>\n",
       "      <td>Japanese</td>\n",
       "      <td>4.220588</td>\n",
       "      <td>15230</td>\n",
       "    </tr>\n",
       "    <tr>\n",
       "      <th>32</th>\n",
       "      <td>Coffee &amp; Tea</td>\n",
       "      <td>4.227273</td>\n",
       "      <td>14388</td>\n",
       "    </tr>\n",
       "    <tr>\n",
       "      <th>40</th>\n",
       "      <td>Dim Sum</td>\n",
       "      <td>3.766667</td>\n",
       "      <td>14312</td>\n",
       "    </tr>\n",
       "    <tr>\n",
       "      <th>64</th>\n",
       "      <td>Indian</td>\n",
       "      <td>4.062500</td>\n",
       "      <td>14305</td>\n",
       "    </tr>\n",
       "    <tr>\n",
       "      <th>71</th>\n",
       "      <td>Korean</td>\n",
       "      <td>4.022727</td>\n",
       "      <td>14024</td>\n",
       "    </tr>\n",
       "  </tbody>\n",
       "</table>\n",
       "</div>"
      ],
      "text/plain": [
       "                   Category  Overallrating  NumberReviews\n",
       "1            American (New)       4.006410          67791\n",
       "67                  Italian       4.026667          63484\n",
       "99                  Seafood       3.987500          63339\n",
       "15       Breakfast & Brunch       4.142857          46829\n",
       "2    American (Traditional)       3.967742          41864\n",
       "77                  Mexican       4.000000          41853\n",
       "51                   French       4.107143          29968\n",
       "122              Vietnamese       4.000000          27857\n",
       "88                    Pizza       4.325000          26604\n",
       "30                  Chinese       3.931818          23669\n",
       "5                  Bakeries       4.107143          21978\n",
       "117                    Thai       4.020833          19960\n",
       "110              Sushi Bars       4.200000          19286\n",
       "7                      Bars       4.022727          16835\n",
       "109             Steakhouses       3.950000          16771\n",
       "69                 Japanese       4.220588          15230\n",
       "32             Coffee & Tea       4.227273          14388\n",
       "40                  Dim Sum       3.766667          14312\n",
       "64                   Indian       4.062500          14305\n",
       "71                   Korean       4.022727          14024"
      ]
     },
     "execution_count": 14,
     "metadata": {},
     "output_type": "execute_result"
    }
   ],
   "source": [
    "#  Identify  Top Cuisine.\n",
    "TopCuisine = (yelp.groupby('Category',  as_index=False)\n",
    "       .agg({'NumberReviews':'sum', 'Overallrating':'mean'}))\n",
    "TopCuisine= TopCuisine.sort_values(['NumberReviews'], ascending=[False])\n",
    "TopCuisine2 = TopCuisine.head(20)\n",
    "TopCuisine2"
   ]
  },
  {
   "cell_type": "code",
   "execution_count": 15,
   "metadata": {},
   "outputs": [
    {
     "data": {
      "text/plain": [
       "[Text(0,0.5,'Cuisine')]"
      ]
     },
     "execution_count": 15,
     "metadata": {},
     "output_type": "execute_result"
    },
    {
     "data": {
      "image/png": "[encoded data removed]",
      "text/plain": [
       "<Figure size 1080x720 with 1 Axes>"
      ]
     },
     "metadata": {
      "needs_background": "light"
     },
     "output_type": "display_data"
    }
   ],
   "source": [
    "#Plotting data for Top 20 Cuisines\n",
    "f, ax = plt.subplots(figsize=(15, 10))\n",
    "sns.barplot(x=\"NumberReviews\", y=\"Category\", data=TopCuisine2)\n",
    "ax.set(ylabel='Cuisine')"
   ]
  },
  {
   "cell_type": "code",
   "execution_count": 16,
   "metadata": {},
   "outputs": [],
   "source": [
    "#This is the end"
   ]
  }
 ],
 "metadata": {
  "kernelspec": {
   "display_name": "Python 3",
   "language": "python",
   "name": "python3"
  },
  "language_info": {
   "codemirror_mode": {
    "name": "ipython",
    "version": 3
   },
   "file_extension": ".py",
   "mimetype": "text/x-python",
   "name": "python",
   "nbconvert_exporter": "python",
   "pygments_lexer": "ipython3",
   "version": "3.7.3"
  }
 },
 "nbformat": 4,
 "nbformat_minor": 2
}
